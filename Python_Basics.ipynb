{
  "nbformat": 4,
  "nbformat_minor": 0,
  "metadata": {
    "colab": {
      "provenance": []
    },
    "kernelspec": {
      "name": "python3",
      "display_name": "Python 3"
    },
    "language_info": {
      "name": "python"
    }
  },
  "cells": [
    {
      "cell_type": "markdown",
      "source": [
        "#Python Basics Questions\n"
      ],
      "metadata": {
        "id": "Hl2XX3KJecJU"
      }
    },
    {
      "cell_type": "markdown",
      "source": [
        "1. **What is Python, and why is it popular**\n",
        "\n",
        "     - Python is a high-level, interpreted programming language known for its simplicity, readability, and versatility. It is popular due to its easy-to-understand syntax, extensive libraries, and wide range of applications, including web development, data science, machine learning, and automation. Python’s large community and cross-platform support also contribute to its popularity.\n",
        "\n",
        "\n",
        "\n",
        "\n",
        "\n",
        "2. **What is an interpreter in Python?**\n",
        "\n",
        "     - An **interpreter** in Python is a program that executes Python code line by line. It translates the source code into intermediate bytecode and runs it directly, which allows for interactive coding and quick testing but can be slower than compiled languages.\n",
        "\n",
        "\n",
        "\n",
        "\n",
        "3. **What are pre-defined keywords in Python?**\n",
        "     - Pre-defined keywords in Python are reserved words that have special meanings and cannot be used as identifiers (e.g., variable names). These keywords are part of the Python syntax and are used to define the structure and flow of the program. Examples include `if`, `else`, `for`, `while`, `class`, `def`, and `return`.  \n",
        "\n",
        "\n",
        "4. **Can keywords be used as variable names?**\n",
        "     - No, keywords cannot be used as variable names in Python. Keywords are reserved words with special meanings in the language, and using them as variable names will result in a syntax error. For example, you cannot use `if`, `for`, or `class` as variable names.\n",
        "\n",
        "5. **What is mutability in Python ?**\n",
        "   - In Python, **mutability** refers to whether an object can be changed after it is created.\n",
        "\n",
        "     - **Mutable objects** (e.g., lists, dictionaries) can be modified.\n",
        "     - **Immutable objects** (e.g., strings, tuples) cannot be modified after creation.\n",
        "\n",
        "6. **Why are lists mutable, but tuples are immutable ?**\n",
        "  - Lists are mutable because they are designed to allow modifications, such as adding, removing, or changing elements, making them flexible for dynamic data. Tuples, on the other hand, are immutable to provide benefits like better performance, memory efficiency, and data integrity, ensuring the content remains constant once created. This immutability makes tuples suitable for use as keys in dictionaries, where consistency is important.\n",
        "\n",
        "\n",
        "7. **What is the difference between “==” and “is” operators in Python?**\n",
        "\n",
        "    - The `==` operator checks if the **values** of two objects are equal, meaning it compares their content or data.\n",
        "\n",
        "    The `is` operator checks if two objects are the **same** in memory, meaning it compares whether they refer to the exact same object, not just if their values are equal.\n",
        "\n",
        "8. **What are logical operators in Python ?**\n",
        "    - Logical operators in Python are used to combine conditional statements and perform logical operations. They return `True` or `False` based on the evaluation of the conditions.\n",
        "    The main logical operators are:\n",
        "\n",
        "      - **`and`**: Returns `True` if both conditions are `True`.\n",
        "      - **`or`**: Returns `True` if at least one of the conditions is `True`.\n",
        "      - **`not`**: Reverses the Boolean value of the condition. It returns `True` if the condition is `False`, and `False` if the condition is `True`.\n",
        "\n",
        "9. **What is type casting in Python ?**\n",
        "\n",
        "    - Type Casting/Type Conversion is the process of changing the data type of a value object.\n",
        "\n",
        "    We use it while executing/computation using operators, there can be mismatch between the data type.Type casting allows you to change the type of a variable explicitly or implicitly in Python.\n",
        "\n",
        "    Type casting is often necessary for performing arithmetic operations, data manipulation, and input/output operations in Python programs.\n",
        "\n",
        "\n",
        "10. **What is the difference between implicit and explicit type casting ?**\n",
        "\n",
        "    - The difference between **implicit** and **explicit** type casting in Python is as follows:\n",
        "\n",
        "      - **Implicit type casting (Type Coercion)**: Python automatically converts one data type to another when necessary, without requiring the programmer to specify the conversion. This usually happens when combining compatible types (e.g., an integer with a float), where Python promotes the lower type to the higher type.\n",
        "\n",
        "      Example:\n",
        "  ```python\n",
        "  x = 5      # Integer\n",
        "  y = 2.5    # Float\n",
        "  result = x + y  # Python implicitly converts 5 to a float\n",
        "  print(result)   # Output: 7.5\n",
        "  ```\n",
        "     - **Explicit type casting (Type Conversion)**: The programmer manually converts one data type to another using functions like `int()`, `float()`, `str()`, etc. This is done when the programmer needs to ensure a specific type conversion.\n",
        "\n",
        "      Example:\n",
        "  ```python\n",
        "  x = \"10\"      # String\n",
        "  y = int(x)    # Explicitly converting string to integer\n",
        "  print(y)      # Output: 10\n",
        "  ```\n",
        "\n",
        "\n",
        "\n",
        "11. **What is the purpose of conditional statements in Python ?**\n",
        "\n",
        "     -  Conditional statements in Python are used to control the flow of execution based on whether certain conditions are met. They allow a program to make decisions and execute specific code blocks depending on the outcome of logical conditions.\n",
        "     \n",
        "     The main conditional statements in Python are:\n",
        "     1. **`if`**: Executes a block of code if the condition is `True`.\n",
        "     2. **`elif`**: Stands for \"else if\" and checks additional conditions if the previous ones are `False`.\n",
        "     3. **`else`**: Executes a block of code if none of the preceding conditions are `True`.\n",
        "     \n",
        "     These statements are fundamental for implementing decision-making in programs, such as handling user input, checking conditions, or controlling loops. They enable the program to behave differently based on different situations.\n",
        "\n",
        "\n",
        "12. **How does the elif statement work ?**\n",
        "     - The **`elif`** statement in Python is used to check additional conditions if the initial `if` condition is `False`. It allows multiple conditions to be tested in sequence. If an `if` condition is `False`, the program checks the `elif` conditions, and if none are `True`, it moves to the `else` block (if provided).\n",
        "\n",
        "     ### Example:\n",
        "```python\n",
        "x = 10\n",
        "if x > 20:\n",
        "    print(\"Greater than 20\")\n",
        "elif x > 5:\n",
        "    print(\"Greater than 5 but less than or equal to 20\")\n",
        "else:\n",
        "    print(\"5 or less\")\n",
        "```\n",
        "\n",
        "     Only one block (`if`, `elif`, or `else`) is executed, based on which condition is `True`.\n",
        "\n",
        "\n",
        "13. **What is the difference between for and while loops ?**\n",
        "\n",
        "     - The difference between **`for`** and **`while`** loops in Python is primarily based on how they control iteration:\n",
        "\n",
        "         - **`for` loop**: Used when the number of iterations is known beforehand or when iterating over a sequence (like a list, tuple, or range). It automatically iterates through all the elements in a collection.\n",
        "\n",
        "         Example:\n",
        "  ```python\n",
        "  for i in range(5):\n",
        "      print(i)  # Prints numbers from 0 to 4\n",
        "  ```\n",
        "\n",
        "      - **`while` loop**: Used when the number of iterations is not known, and the loop continues as long as a specified condition remains `True`. It is based on a condition that is checked before each iteration.\n",
        "\n",
        "         Example:\n",
        "  ```python\n",
        "  i = 0\n",
        "  while i < 5:\n",
        "      print(i)\n",
        "      i += 1  # Prints numbers from 0 to 4\n",
        "  ```\n",
        "\n",
        "  14. **Describe a scenario where a while loop is more suitable than a for loop.**\n",
        "   - A **`while` loop** is more suitable than a **`for` loop** when the number of iterations is not known beforehand and the loop needs to continue until a specific condition is met. With a `while` loop, the condition is evaluated before each iteration, allowing the loop to run an indefinite number of times as long as the condition remains true. This is useful when the termination condition depends on factors that are determined during the execution, rather than a fixed range or sequence.\n"
      ],
      "metadata": {
        "id": "9vmlTX-KfABs"
      }
    },
    {
      "cell_type": "markdown",
      "source": [
        "# Practical Questions"
      ],
      "metadata": {
        "id": "lYsDoVjspvCi"
      }
    },
    {
      "cell_type": "code",
      "source": [
        "#1. Write a Python program to print \"Hello, World!\"\n",
        "\n",
        "print(\"Hello, World!\")\n"
      ],
      "metadata": {
        "colab": {
          "base_uri": "https://localhost:8080/"
        },
        "id": "s-_eAMbSp4_C",
        "outputId": "16d36ba0-55bc-4a53-d51b-d0f1001f50cd"
      },
      "execution_count": null,
      "outputs": [
        {
          "output_type": "stream",
          "name": "stdout",
          "text": [
            "Hello, World!\n"
          ]
        }
      ]
    },
    {
      "cell_type": "code",
      "source": [
        "#2. Write a Python program that displays your name and age.\n",
        "\n",
        "name = \"Gaurav kumar\"\n",
        "age = 23\n",
        "\n",
        "print(\"Name:\", name)\n",
        "print(\"Age:\", age)\n"
      ],
      "metadata": {
        "colab": {
          "base_uri": "https://localhost:8080/"
        },
        "id": "HiRUuudQqYct",
        "outputId": "cf6f2fbf-a961-4a24-cb84-3023c1697d66"
      },
      "execution_count": null,
      "outputs": [
        {
          "output_type": "stream",
          "name": "stdout",
          "text": [
            "Name: Gaurav kumar\n",
            "Age: 23\n"
          ]
        }
      ]
    },
    {
      "cell_type": "code",
      "source": [
        "#3. Write code to print all the pre-defined keywords in Python using the keyword library.\n",
        "\n",
        "import keyword\n",
        "\n",
        "print(\"The list of keywords is : \")\n",
        "print(keyword.kwlist)\n"
      ],
      "metadata": {
        "colab": {
          "base_uri": "https://localhost:8080/"
        },
        "id": "9AUo8iw-qxPI",
        "outputId": "f941d7d8-3b15-4d69-c5c1-380a6c8b1314"
      },
      "execution_count": null,
      "outputs": [
        {
          "output_type": "stream",
          "name": "stdout",
          "text": [
            "The list of keywords is : \n",
            "['False', 'None', 'True', 'and', 'as', 'assert', 'async', 'await', 'break', 'class', 'continue', 'def', 'del', 'elif', 'else', 'except', 'finally', 'for', 'from', 'global', 'if', 'import', 'in', 'is', 'lambda', 'nonlocal', 'not', 'or', 'pass', 'raise', 'return', 'try', 'while', 'with', 'yield']\n"
          ]
        }
      ]
    },
    {
      "cell_type": "code",
      "source": [
        "#4. Write a program that checks if a given word is a Python keyword.\n",
        "\n",
        "import keyword\n",
        "\n",
        "# Input a word to check\n",
        "word = input(\"Enter a word: \")\n",
        "\n",
        "# Check if the word is a Python keyword\n",
        "if keyword.iskeyword(word):\n",
        "    print(f\"'{word}' is a Python keyword.\")\n",
        "else:\n",
        "    print(f\"'{word}' is not a Python keyword.\")\n"
      ],
      "metadata": {
        "colab": {
          "base_uri": "https://localhost:8080/"
        },
        "id": "njjJYhtarUX1",
        "outputId": "c39618c5-aeae-4676-f1e5-cdf451d43cf4"
      },
      "execution_count": null,
      "outputs": [
        {
          "output_type": "stream",
          "name": "stdout",
          "text": [
            "Enter a word: if\n",
            "'if' is a Python keyword.\n"
          ]
        }
      ]
    },
    {
      "cell_type": "code",
      "source": [
        "#5. Create a list and tuple in Python, and demonstrate how attempting to change an element works differently for each.\n",
        "\n",
        "# Creating a list\n",
        "my_list = [1, 2, 3, 4]\n",
        "print(\"Original list:\", my_list)\n",
        "\n",
        "# Changing an element in the list (this is allowed)\n",
        "my_list[1] = 10\n",
        "print(\"List after modification:\", my_list)\n",
        "\n",
        "# Creating a tuple\n",
        "my_tuple = (1, 2, 3, 4)\n",
        "print(\"\\nOriginal tuple:\", my_tuple)\n",
        "\n",
        "# Attempting to change an element in the tuple (this will raise an error)\n",
        "try:\n",
        "    my_tuple[1] = 10\n",
        "except TypeError as e:\n",
        "    print(\"Error while modifying tuple:\", e)\n",
        "\n",
        "''' The primary difference between tuples and lists is that tuples are immutable instead of mutable lists. Therefore, it is possible to change a list but not a tuple. '''\n",
        "\n",
        "\n"
      ],
      "metadata": {
        "colab": {
          "base_uri": "https://localhost:8080/"
        },
        "id": "8FZTv2UgsJ6_",
        "outputId": "57528028-f6af-4d3d-bbb6-09a10eff5439"
      },
      "execution_count": null,
      "outputs": [
        {
          "output_type": "stream",
          "name": "stdout",
          "text": [
            "Original list: [1, 2, 3, 4]\n",
            "List after modification: [1, 10, 3, 4]\n",
            "\n",
            "Original tuple: (1, 2, 3, 4)\n",
            "Error while modifying tuple: 'tuple' object does not support item assignment\n"
          ]
        }
      ]
    },
    {
      "cell_type": "code",
      "source": [
        "#6. Write a function to demonstrate the behavior of mutable and immutable arguments\n",
        "\n",
        "list_cont = [1, 2, 3, 4, \"Gaurav\"]\n",
        "print(\"Original list\", list_cont)\n",
        "\n",
        "# Mutability argument\n",
        "list_cont[4] = \"kumar\"  # Modifying the element at index 4\n",
        "\n",
        "print(\"Modified list\",list_cont)  # The modified list will be printed\n",
        "\n",
        "\n",
        "#Immutable argument\n",
        "my_name = \"Gaurav\"\n",
        "print(my_name)\n",
        "\n",
        "try:\n",
        "    my_name[0] = \"S\"  # Attempt to modify the first character\n",
        "except TypeError as e:\n",
        "    print(\"Error:\", e)  # Prints: Error: 'str' object does not support item assignment\n",
        "\n",
        "\n"
      ],
      "metadata": {
        "id": "qyT7oShrLhKY",
        "colab": {
          "base_uri": "https://localhost:8080/"
        },
        "outputId": "3fb2e828-7381-4630-84f0-32972393ab64"
      },
      "execution_count": null,
      "outputs": [
        {
          "output_type": "stream",
          "name": "stdout",
          "text": [
            "Original list [1, 2, 3, 4, 'Gaurav']\n",
            "Modified list [1, 2, 3, 4, 'kumar']\n",
            "Gaurav\n",
            "Error: 'str' object does not support item assignment\n"
          ]
        }
      ]
    },
    {
      "cell_type": "code",
      "source": [
        "#7. Write a function to demonstrate the behavior of mutable and immutable arguments.\n",
        "\n",
        "list_cont = [1, 2, 3, 4, \"Gaurav\"]\n",
        "print(\"Original list\", list_cont)\n",
        "\n",
        "# Mutability argument\n",
        "list_cont[4] = \"kumar\"  # Modifying the element at index 4\n",
        "\n",
        "print(\"Modified list\",list_cont)  # The modified list will be printed\n",
        "\n",
        "\n",
        "#Immutable argument\n",
        "my_name = \"Gaurav\"\n",
        "print(my_name)\n",
        "\n",
        "try:\n",
        "    my_name[0] = \"S\"  # Attempt to modify the first character\n",
        "except TypeError as e:\n",
        "    print(\"Error:\", e)  # Prints: Error: 'str' object does not support item assignment"
      ],
      "metadata": {
        "colab": {
          "base_uri": "https://localhost:8080/"
        },
        "id": "H2gc62qecKgy",
        "outputId": "26c768f1-1cbe-4446-ffba-fe61f2bb0a6f"
      },
      "execution_count": null,
      "outputs": [
        {
          "output_type": "stream",
          "name": "stdout",
          "text": [
            "Original list [1, 2, 3, 4, 'Gaurav']\n",
            "Modified list [1, 2, 3, 4, 'kumar']\n",
            "Gaurav\n",
            "Error: 'str' object does not support item assignment\n"
          ]
        }
      ]
    },
    {
      "cell_type": "code",
      "source": [
        "#8. Write a program to demonstrate the use of logical operators.\n",
        "\n",
        "# Example variables\n",
        "x = 5\n",
        "y = 10\n",
        "z = 15\n",
        "\n",
        "# Using 'and' logical operator\n",
        "if x < y and y < z:\n",
        "    print(\"x is less than y AND y is less than z\")\n",
        "\n",
        "# Using 'or' logical operator\n",
        "if x > y or y < z:\n",
        "    print(\"Either x is greater than y OR y is less than z\")\n",
        "\n",
        "# Using 'not' logical operator\n",
        "if not x > y:\n",
        "    print(\"x is NOT greater than y\")\n",
        "\n",
        "# Combining logical operators\n",
        "if x < y and not y > z:\n",
        "    print(\"x is less than y AND y is NOT greater than z\")\n"
      ],
      "metadata": {
        "colab": {
          "base_uri": "https://localhost:8080/"
        },
        "id": "uRJkj1tVckRX",
        "outputId": "ff2ba12d-bf49-496a-8fd7-d72c446da9f0"
      },
      "execution_count": null,
      "outputs": [
        {
          "output_type": "stream",
          "name": "stdout",
          "text": [
            "x is less than y AND y is less than z\n",
            "Either x is greater than y OR y is less than z\n",
            "x is NOT greater than y\n",
            "x is less than y AND y is NOT greater than z\n"
          ]
        }
      ]
    },
    {
      "cell_type": "code",
      "source": [
        "#9. Write a Python program to convert user input from string to integer, float, and boolean types.\n",
        "\n",
        "a = \"72\"  # a is a string\n",
        "print(a)\n",
        "\n",
        "# Checking the type of 'a'\n",
        "print(\"Type of a is:\", type(a))\n",
        "\n",
        "# Converting string 'a' to integer\n",
        "int_value = int(a)\n",
        "print(\"Converted to integer:\", int_value)\n",
        "\n",
        "# Converting string 'a' to float\n",
        "float_value = float(a)\n",
        "print(\"Converted to float:\", float_value)\n",
        "\n",
        "# Converting string 'a' to boolean\n",
        "bool_value = bool(a)\n",
        "print(\"Converted to boolean:\", bool_value)\n"
      ],
      "metadata": {
        "colab": {
          "base_uri": "https://localhost:8080/"
        },
        "id": "Iq20DFVqdCXl",
        "outputId": "c1be61b3-b654-426c-be0f-9237a2c194be"
      },
      "execution_count": null,
      "outputs": [
        {
          "output_type": "stream",
          "name": "stdout",
          "text": [
            "72\n",
            "Type of a is <class 'str'>\n",
            "Converted to integer: 72\n",
            "Converted to float: 72.0\n",
            "Converted to boolean: True\n"
          ]
        }
      ]
    },
    {
      "cell_type": "code",
      "source": [
        "#10. Write code to demonstrate type casting with list elements.\n",
        "\n",
        "# Creating a list with mixed data types (strings, integers, floats, booleans)\n",
        "my_list = [\"10\", \"3.14\", \"True\", \"False\", 100, 20.5, False]\n",
        "\n",
        "# Convert all string elements to integers if possible\n",
        "int_list = []\n",
        "for item in my_list:\n",
        "    if isinstance(item, str):  # Only process string elements\n",
        "        if item.isdigit():  # Check if the string is a valid integer\n",
        "            int_list.append(int(item))  # Convert string to integer\n",
        "        else:\n",
        "            try:\n",
        "                # Try to convert to float (if it's a float-like string)\n",
        "                int_list.append(int(float(item)))\n",
        "            except ValueError:\n",
        "                int_list.append(item)  # Keep the item as is if it can't be converted\n",
        "    else:\n",
        "        int_list.append(item)  # Non-string items stay as they are\n",
        "\n",
        "print(\"List after converting to integers:\", int_list)\n",
        "\n",
        "# Convert all elements to floats if possible\n",
        "float_list = []\n",
        "for item in my_list:\n",
        "    if isinstance(item, str):\n",
        "        try:\n",
        "            float_list.append(float(item))  # Try to convert the string to float\n",
        "        except ValueError:\n",
        "            float_list.append(item)  # Keep the item as is if it can't be converted\n",
        "    else:\n",
        "        float_list.append(item)  # Non-string items stay as they are\n",
        "\n",
        "print(\"List after converting to floats:\", float_list)\n",
        "\n",
        "# Convert all elements to booleans\n",
        "bool_list = [bool(item) for item in my_list]\n",
        "print(\"List after converting to booleans:\", bool_list)\n",
        "\n",
        "\n",
        "\n"
      ],
      "metadata": {
        "colab": {
          "base_uri": "https://localhost:8080/"
        },
        "id": "MtNeUDi2gUiR",
        "outputId": "aa257549-0b2b-44b3-b686-a2b47c3c10ae"
      },
      "execution_count": null,
      "outputs": [
        {
          "output_type": "stream",
          "name": "stdout",
          "text": [
            "List after converting to integers: [10, 3, 'True', 'False', 100, 20.5, False]\n",
            "List after converting to floats: [10.0, 3.14, 'True', 'False', 100, 20.5, False]\n",
            "List after converting to booleans: [True, True, True, True, True, True, False]\n"
          ]
        }
      ]
    },
    {
      "cell_type": "code",
      "source": [
        "#11. Write a program that checks if a number is positive, negative, or zero.\n",
        "\n",
        "def check_number(num):\n",
        "    if num > 0:\n",
        "        return \"The number is positive.\"\n",
        "    elif num < 0:\n",
        "        return \"The number is negative.\"\n",
        "    else:\n",
        "        return \"The number is zero.\"\n",
        "\n",
        "# Take input from the user\n",
        "number = float(input(\"Enter a number: \"))\n",
        "result = check_number(number)\n",
        "print(result)\n"
      ],
      "metadata": {
        "colab": {
          "base_uri": "https://localhost:8080/"
        },
        "id": "Yz97zRjuvFS6",
        "outputId": "a9785f98-e8ae-4ced-92c3-82202437cc8a"
      },
      "execution_count": 4,
      "outputs": [
        {
          "output_type": "stream",
          "name": "stdout",
          "text": [
            "Enter a number: 1\n",
            "The number is positive.\n"
          ]
        }
      ]
    },
    {
      "cell_type": "code",
      "source": [
        "#12. Write a for loop to print numbers from 1 to 10.\n",
        "\n",
        "for i in range(1, 11):\n",
        "    print(i)\n"
      ],
      "metadata": {
        "colab": {
          "base_uri": "https://localhost:8080/"
        },
        "id": "wzOD2pKjjcGc",
        "outputId": "d633e817-d602-4274-c60d-180c44c5330f"
      },
      "execution_count": null,
      "outputs": [
        {
          "output_type": "stream",
          "name": "stdout",
          "text": [
            "1\n",
            "2\n",
            "3\n",
            "4\n",
            "5\n",
            "6\n",
            "7\n",
            "8\n",
            "9\n",
            "10\n"
          ]
        }
      ]
    },
    {
      "cell_type": "code",
      "source": [
        "#13. Write a Python program to find the sum of all even numbers between 1 and 50.\n",
        "\n",
        "# Initialize sum variable\n",
        "even_sum = 0\n",
        "\n",
        "# Loop through numbers from 1 to 50\n",
        "for num in range(1, 51):\n",
        "    if num % 2 == 0:  # Check if the number is even\n",
        "        even_sum += num\n",
        "\n",
        "# Print the sum of even numbers\n",
        "print(\"Sum of all even numbers between 1 and 50:\", even_sum)\n"
      ],
      "metadata": {
        "colab": {
          "base_uri": "https://localhost:8080/"
        },
        "id": "m-uoXQ3sk4Aj",
        "outputId": "af6e8576-2716-49f3-dff0-131c0f604fa2"
      },
      "execution_count": null,
      "outputs": [
        {
          "output_type": "stream",
          "name": "stdout",
          "text": [
            "Sum of all even numbers between 1 and 50: 650\n"
          ]
        }
      ]
    },
    {
      "cell_type": "code",
      "source": [
        "#14. Write a program to reverse a string using a while loop.\n",
        "\n",
        "name = str(\"Gaurav Kumar\")\n",
        "\n",
        "i = len(name) - 1  # Start from the last character\n",
        "\n",
        "while i >= 0:  # Continue until the index is valid (i >= 0)\n",
        "    print(name[i], end='')  # Print the current character without a newline\n",
        "    i -= 1  # Move to the previous character\n",
        "\n",
        "\n"
      ],
      "metadata": {
        "id": "gbOFZpt5lNWf",
        "colab": {
          "base_uri": "https://localhost:8080/"
        },
        "outputId": "fa5bca2d-e58f-4a49-c62f-35ccad5249fc"
      },
      "execution_count": 17,
      "outputs": [
        {
          "output_type": "stream",
          "name": "stdout",
          "text": [
            "ramuK varuaG"
          ]
        }
      ]
    },
    {
      "cell_type": "code",
      "source": [
        "#14. Write a Python program to calculate the factorial of a number provided by the user using a while loop.\n",
        "\n",
        "# Input from the user\n",
        "num = int(input(\"Enter a number: \"))\n",
        "\n",
        "# Initialize the factorial result to 1\n",
        "factorial = 1\n",
        "\n",
        "# Check if the number is negative, zero, or positive\n",
        "if num < 0:\n",
        "    print(\"Factorial does not exist for negative numbers\")\n",
        "elif num == 0:\n",
        "    print(\"Factorial of 0 is 1\")\n",
        "else:\n",
        "    # Calculate factorial using a while loop\n",
        "    while num > 0:\n",
        "        factorial *= num  # Multiply the current number to the factorial\n",
        "        num -= 1  # Decrement the number by 1\n",
        "\n",
        "    print(\"Factorial is\", factorial)\n",
        "\n"
      ],
      "metadata": {
        "colab": {
          "base_uri": "https://localhost:8080/"
        },
        "id": "XiTp8BHJudbx",
        "outputId": "5fb32466-1361-45cd-d145-0d8b369b3833"
      },
      "execution_count": 18,
      "outputs": [
        {
          "output_type": "stream",
          "name": "stdout",
          "text": [
            "Enter a number: 12\n",
            "Factorial is 479001600\n"
          ]
        }
      ]
    }
  ]
}